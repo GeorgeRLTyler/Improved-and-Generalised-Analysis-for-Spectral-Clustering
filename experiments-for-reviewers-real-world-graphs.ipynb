{
 "cells": [
  {
   "cell_type": "markdown",
   "source": [
    "<h1 style=\"font-size: 50px\">Real-World Graphs</h1>"
   ],
   "metadata": {
    "collapsed": false
   },
   "id": "4aefac3633e9d60a"
  },
  {
   "cell_type": "markdown",
   "source": [
    "# imports, settings and needed functions"
   ],
   "metadata": {
    "collapsed": false
   },
   "id": "21266aad7ed5ef7"
  },
  {
   "cell_type": "code",
   "execution_count": 1,
   "id": "initial_id",
   "metadata": {
    "collapsed": true,
    "ExecuteTime": {
     "end_time": "2025-01-09T14:30:26.593748300Z",
     "start_time": "2025-01-09T14:30:19.798216900Z"
    }
   },
   "outputs": [],
   "source": [
    "import numpy as np\n",
    "import pandas as pd\n",
    "import networkx as nx\n",
    "import matplotlib.pyplot as plt\n",
    "import seaborn as sns\n",
    "from sklearn.cluster import KMeans\n",
    "from sklearn.datasets import fetch_openml\n",
    "from sklearn.metrics import pairwise_distances\n",
    "from graph import Graph\n",
    "from helpers import get_hermitian_adjacency_matrix, get_adjacency_matrix, get_degree_matrix, get_laplacian_matrix"
   ]
  },
  {
   "cell_type": "code",
   "execution_count": 2,
   "outputs": [],
   "source": [
    "np.random.seed(9)\n",
    "font = {'size'   : 16}\n",
    "\n",
    "plt.rc('font', **font)"
   ],
   "metadata": {
    "collapsed": false,
    "ExecuteTime": {
     "end_time": "2025-01-09T14:30:26.669800100Z",
     "start_time": "2025-01-09T14:30:26.593748300Z"
    }
   },
   "id": "68191c9749daeb0b"
  },
  {
   "cell_type": "markdown",
   "source": [
    "General Functions"
   ],
   "metadata": {
    "collapsed": false
   },
   "id": "4ed190b5bebde437"
  },
  {
   "cell_type": "code",
   "execution_count": 3,
   "outputs": [],
   "source": [
    "def knn_adjacency_matrix(features, k, metric='euclidean'):\n",
    "    if k <= 0:\n",
    "        raise ValueError(\"k must be a positive integer.\")\n",
    "\n",
    "    # Compute the pairwise distances\n",
    "    distances = pairwise_distances(features, metric=metric)\n",
    "\n",
    "    # Get the indices of the k-nearest neighbors for each point\n",
    "    knn_indices = np.argsort(distances, axis=1)[:, 1:k+1]\n",
    "\n",
    "    # Initialize the adjacency matrix\n",
    "    n_points = features.shape[0]\n",
    "    adjacency_matrix = np.zeros((n_points, n_points), dtype=float)\n",
    "\n",
    "    # Fill the adjacency matrix\n",
    "    for i in range(n_points):\n",
    "        for j in knn_indices[i]:\n",
    "            adjacency_matrix[i, j] = 1\n",
    "            adjacency_matrix[j, i] = 1  # Ensure the graph is undirected\n",
    "\n",
    "    return adjacency_matrix\n",
    "def get_thresholded_correlation_matrix(features, threshold):\n",
    "    correlation_matrix = np.corrcoef(features)\n",
    "\n",
    "    # Create a graph using the correlation matrix\n",
    "    correlation_matrix[correlation_matrix < threshold] = 0\n",
    "    return correlation_matrix\n",
    "                \n",
    "\n",
    "def get_normalised_laplacian(A):\n",
    "    degrees = np.sum(A, axis=1)\n",
    "    D_inv_sqrt = np.diag([1/np.sqrt(d) for d in degrees])\n",
    "    return np.eye(len(A)) - D_inv_sqrt @ A @ D_inv_sqrt\n",
    "\n",
    "\n",
    "def k_means_indicator_vectors(eigenvectors, K):\n",
    "    assert eigenvectors.shape[1] >= K, 'Number of eigenvectors should be greater than or equal to K'\n",
    "    kmeans = KMeans(n_clusters=K, random_state=0).fit(eigenvectors)\n",
    "    indicator_vectors = np.zeros((eigenvectors.shape[0], K))\n",
    "    for i in range(K):\n",
    "        indicator_vectors[:,i] = kmeans.labels_ == i\n",
    "    return indicator_vectors\n",
    "\n",
    "def degree_correction(vectors, D_sqrt):\n",
    "    vectors_corrected = vectors.copy()\n",
    "    for i in range(vectors.shape[1]):\n",
    "        vectors_corrected[:,i] = D_sqrt @ vectors[:,i]\n",
    "        vectors_corrected[:,i] = vectors_corrected[:,i] / np.linalg.norm(vectors_corrected[:,i])\n",
    "    return vectors_corrected\n",
    "\n",
    "def compute_rayleigh_quotients(normalised_L, indicator_vectors, K):\n",
    "    rayleigh_quotients = []\n",
    "    assert indicator_vectors.shape[1] == K, 'Indicator vectors should have K columns'\n",
    "    for i in range(K):\n",
    "        indicator = indicator_vectors[:, i]\n",
    "        val = (indicator.T @ normalised_L @ indicator) / (indicator.T @ indicator)\n",
    "        rayleigh_quotients.append(val)\n",
    "    return rayleigh_quotients\n",
    "\n",
    "\n",
    "def dfs(node, adj_matrix, visited, component):\n",
    "    \"\"\"\n",
    "    Depth-first search to collect all nodes in the same connected component.\n",
    "\n",
    "    Parameters:\n",
    "        node (int): The current node being visited.\n",
    "        adj_matrix (numpy.ndarray): The adjacency matrix of the graph.\n",
    "        visited (set): A set of visited nodes.\n",
    "        component (list): List to store nodes in the current component.\n",
    "    \"\"\"\n",
    "    visited.add(node)\n",
    "    component.append(node)\n",
    "    for neighbor, is_connected in enumerate(adj_matrix[node]):\n",
    "        if is_connected and neighbor not in visited:\n",
    "            dfs(neighbor, adj_matrix, visited, component)\n",
    "\n",
    "def largest_connected_component(adj_matrix):\n",
    "    \"\"\"\n",
    "    Finds the largest connected component of a graph from its adjacency matrix.\n",
    "\n",
    "    Parameters:\n",
    "        adj_matrix (numpy.ndarray): The adjacency matrix of the graph.\n",
    "\n",
    "    Returns:\n",
    "        numpy.ndarray: The adjacency matrix of the largest connected component.\n",
    "        list: indices of nodes in largest component.\n",
    "    \"\"\"\n",
    "    n = len(adj_matrix)\n",
    "    visited = set()\n",
    "    components = []\n",
    "\n",
    "    # Find all connected components\n",
    "    for node in range(n):\n",
    "        if node not in visited:\n",
    "            component = []\n",
    "            dfs(node, adj_matrix, visited, component)\n",
    "            components.append(component)\n",
    "\n",
    "    # Identify the largest connected component\n",
    "    largest_cc = max(components, key=len)\n",
    "\n",
    "    # Create the adjacency matrix for the largest connected component\n",
    "    size = len(largest_cc)\n",
    "    largest_cc_matrix = np.zeros((size, size), dtype=int)\n",
    "\n",
    "    node_index = {node: i for i, node in enumerate(largest_cc)}\n",
    "    for i in largest_cc:\n",
    "        for j in largest_cc:\n",
    "            if adj_matrix[i][j]:\n",
    "                largest_cc_matrix[node_index[i]][node_index[j]] = 1\n",
    "\n",
    "    return largest_cc_matrix, largest_cc\n"
   ],
   "metadata": {
    "collapsed": false,
    "ExecuteTime": {
     "end_time": "2025-01-09T14:30:31.941313700Z",
     "start_time": "2025-01-09T14:30:31.879100700Z"
    }
   },
   "id": "2f24db46aaedef2f"
  },
  {
   "cell_type": "markdown",
   "source": [
    "Simple search algorithm for finding a good split of eigenvalues to apply the recursive structure theorem"
   ],
   "metadata": {
    "collapsed": false
   },
   "id": "244ecc27cbc66c8"
  },
  {
   "cell_type": "code",
   "execution_count": 4,
   "outputs": [],
   "source": [
    "def apply_recursive_st(rayleigh_quotients, eigenvalues, start, end, error):\n",
    "    R = rayleigh_quotients[start:end]\n",
    "    l = end-start\n",
    "    val = np.sum(R) - l * eigenvalues[start] + eigenvalues[end] * error\n",
    "    if (eigenvalues[end] != eigenvalues[start]) and (eigenvalues[end] != 0):\n",
    "        val = val / (eigenvalues[end] - eigenvalues[start])\n",
    "        print(val)\n",
    "        return val\n",
    "    else:\n",
    "        return 0\n",
    "    \n",
    "def apply_recursive_st_search(rayleigh_quotients, eigenvalues, start, error, bound_indices, values):\n",
    "    # we begin initial search for first error bound\n",
    "    indices = list(range(len(rayleigh_quotients)))\n",
    "    if bound_indices and max(bound_indices) == len(rayleigh_quotients)-1:\n",
    "        return bound_indices, values\n",
    "    else:\n",
    "        vals_temp = []\n",
    "        indices_to_search = indices[start+1:]\n",
    "        for end in indices_to_search:\n",
    "            vals_temp.append(apply_recursive_st(rayleigh_quotients, eigenvalues, start, end, error = error))\n",
    "        min_val = min(vals_temp)\n",
    "        min_index = vals_temp.index(min_val)\n",
    "        bound_indices.append(indices_to_search[min_index])\n",
    "        values.append(min_val)\n",
    "        print(f\"Difference between {start} and {bound_indices[-1]}\")\n",
    "        return apply_recursive_st_search(rayleigh_quotients, eigenvalues, start=bound_indices[-1], error = np.sum(values), bound_indices=bound_indices, values = values)\n",
    "    "
   ],
   "metadata": {
    "collapsed": false,
    "ExecuteTime": {
     "end_time": "2025-01-09T14:30:51.229749500Z",
     "start_time": "2025-01-09T14:30:51.180023800Z"
    }
   },
   "id": "ee477e5d591eec7a"
  },
  {
   "cell_type": "markdown",
   "source": [
    "EDITED VERSION BELOW"
   ],
   "metadata": {
    "collapsed": false
   },
   "id": "43dcdf4a699765ac"
  },
  {
   "cell_type": "code",
   "execution_count": 5,
   "outputs": [],
   "source": [
    "def apply_recursive_st(rayleigh_quotients, eigenvalues, start, end, error):\n",
    "    R = rayleigh_quotients[start:end]\n",
    "    l = end-start\n",
    "    val = np.sum(R) - l * eigenvalues[start] + eigenvalues[end] * error\n",
    "    if (eigenvalues[end] != eigenvalues[start]) and (eigenvalues[end] != 0):\n",
    "        val = val / (eigenvalues[end] - eigenvalues[start])\n",
    "        print(val)\n",
    "        return val\n",
    "    else:\n",
    "        return 0\n",
    "    \n",
    "def apply_recursive_st_search(rayleigh_quotients, eigenvalues, start, error, bound_indices, values):\n",
    "    # we begin initial search for first error bound\n",
    "    indices = list(range(len(eigenvalues)))\n",
    "    if bound_indices and max(bound_indices) == len(eigenvalues)-1:\n",
    "        return bound_indices, values\n",
    "    else:\n",
    "        vals_temp = []\n",
    "        indices_to_search = indices[start+1:]\n",
    "        for end in indices_to_search:\n",
    "            vals_temp.append(apply_recursive_st(rayleigh_quotients, eigenvalues, start, end, error = error))\n",
    "        min_val = min(vals_temp)\n",
    "        min_index = vals_temp.index(min_val)\n",
    "        bound_indices.append(indices_to_search[min_index])\n",
    "        values.append(min_val)\n",
    "        print(f\"Difference between {start} and {bound_indices[-1]}\")\n",
    "        print(\"Rayleigh quotient indices accounted for: \")\n",
    "        return apply_recursive_st_search(rayleigh_quotients, eigenvalues, start=bound_indices[-1], error = np.sum(values), bound_indices=bound_indices, values = values)\n"
   ],
   "metadata": {
    "collapsed": false,
    "ExecuteTime": {
     "end_time": "2025-01-09T14:31:04.676524100Z",
     "start_time": "2025-01-09T14:31:04.648433100Z"
    }
   },
   "id": "7fb81cd4eddfc9b1"
  },
  {
   "cell_type": "markdown",
   "source": [
    "ATTEMPT TO IMPROVE RECURSIVE ST SEARCH"
   ],
   "metadata": {
    "collapsed": false
   },
   "id": "d2c7f8f28b01e9a8"
  },
  {
   "cell_type": "code",
   "execution_count": 6,
   "outputs": [],
   "source": [
    "def apply_recursive_st(rayleigh_quotients, eigenvalues, start, end, error):\n",
    "    R = rayleigh_quotients[start:end]\n",
    "    l = end-start\n",
    "    val = np.sum(R) - l * eigenvalues[start] + eigenvalues[end] * error\n",
    "    if (eigenvalues[end] != eigenvalues[start]) and (eigenvalues[end] != 0):\n",
    "        val = val / (eigenvalues[end] - eigenvalues[start])\n",
    "        print(val)\n",
    "        return val\n",
    "    else:\n",
    "        return 0\n",
    "    \n",
    "def apply_recursive_st_search_2step(rayleigh_quotients, eigenvalues, start, error, bound_indices, values):\n",
    "    # we begin initial search for first error bound\n",
    "    indices = list(range(len(eigenvalues)))\n",
    "    if bound_indices and max(bound_indices) == len(eigenvalues)-1:\n",
    "        return bound_indices, values\n",
    "    else:\n",
    "        vals_temp_second_step = []\n",
    "        vals_temp = []\n",
    "        indices_to_search = indices[start+1:]\n",
    "        for end in indices_to_search:\n",
    "            val = apply_recursive_st(rayleigh_quotients, eigenvalues, start, end, error = error)\n",
    "            _, v = apply_recursive_st_search(rayleigh_quotients, eigenvalues, start=end, error = np.sum(values) + val, bound_indices=bound_indices, values = values)\n",
    "            vals_temp_second_step.append(np.sum(v) + val)\n",
    "            vals_temp.append(val)\n",
    "        min_val_second_step = min(vals_temp_second_step)\n",
    "        min_index = vals_temp_second_step.index(min_val_second_step)\n",
    "        min_val = vals_temp[min_index]\n",
    "        bound_indices.append(indices_to_search[min_index])\n",
    "        values.append(min_val)\n",
    "        print(f\"Difference between {start} and {bound_indices[-1]}\")\n",
    "        print(\"Rayleigh quotient indices accounted for: \")\n",
    "        return apply_recursive_st_search(rayleigh_quotients, eigenvalues, start=bound_indices[-1], error = np.sum(values), bound_indices=bound_indices, values = values)\n"
   ],
   "metadata": {
    "collapsed": false,
    "ExecuteTime": {
     "end_time": "2025-01-09T14:31:12.948718200Z",
     "start_time": "2025-01-09T14:31:12.939892900Z"
    }
   },
   "id": "fcf424bdd39c4d12"
  },
  {
   "cell_type": "code",
   "execution_count": 7,
   "outputs": [],
   "source": [
    "dataset_results = {}"
   ],
   "metadata": {
    "collapsed": false,
    "ExecuteTime": {
     "end_time": "2025-01-09T14:31:20.588848600Z",
     "start_time": "2025-01-09T14:31:20.543283400Z"
    }
   },
   "id": "b8e7240c0c001fe0"
  },
  {
   "cell_type": "markdown",
   "source": [
    "# MNIST Dataset"
   ],
   "metadata": {
    "collapsed": false
   },
   "id": "f6164d134c5d2e8d"
  },
  {
   "cell_type": "code",
   "execution_count": 8,
   "outputs": [
    {
     "name": "stderr",
     "output_type": "stream",
     "text": [
      "C:\\Users\\georg\\AppData\\Local\\Programs\\Python\\Python311\\Lib\\site-packages\\sklearn\\datasets\\_openml.py:1022: FutureWarning: The default value of `parser` will change from `'liac-arff'` to `'auto'` in 1.4. You can set `parser='auto'` to silence this warning. Therefore, an `ImportError` will be raised from 1.4 if the dataset is dense and pandas is not installed. Note that the pandas parser may return different data types. See the Notes Section in fetch_openml's API doc for details.\n",
      "  warn(\n"
     ]
    }
   ],
   "source": [
    "# Load the MNIST dataset using OpenML\n",
    "mnist = fetch_openml('mnist_784', version=1, as_frame=False)\n",
    "x_data, y_data = mnist.data, mnist.target.astype(int)\n",
    "\n",
    "# Select 3 digits (e.g., 0, 1, and 2) and restrict to 200 samples each\n",
    "digits = [0, 1, 2, 3, 4]\n",
    "samples_per_digit = 500\n",
    "selected_samples = []\n",
    "selected_labels = []\n",
    "\n",
    "# taking a sample of each digit\n",
    "for digit in digits:\n",
    "    indices = np.where(y_data == digit)[0][:samples_per_digit]\n",
    "    selected_samples.append(x_data[indices])\n",
    "    selected_labels.extend(y_data[indices])\n",
    "\n",
    "# Combine the samples into a single dataset\n",
    "selected_samples = np.vstack(selected_samples) / 255.0  # Normalize pixel values\n",
    "selected_labels = np.array(selected_labels)\n",
    "\n",
    "# Create a graph using the correlation matrix\n",
    "threshold = 0.7  # Define a threshold for edge creation\n",
    "adjacency_matrix = get_thresholded_correlation_matrix(selected_samples, threshold)\n",
    "adjacency_matrix_largest_cc, largest_cc = largest_connected_component(adjacency_matrix) \n",
    "normalized_laplacian = get_normalised_laplacian(adjacency_matrix_largest_cc)"
   ],
   "metadata": {
    "collapsed": false,
    "ExecuteTime": {
     "end_time": "2025-01-09T14:31:55.816511700Z",
     "start_time": "2025-01-09T14:31:23.468485800Z"
    }
   },
   "id": "2add2f1129ea7fc1"
  },
  {
   "cell_type": "code",
   "execution_count": 10,
   "outputs": [
    {
     "name": "stderr",
     "output_type": "stream",
     "text": [
      "C:\\Users\\georg\\AppData\\Local\\Programs\\Python\\Python311\\Lib\\site-packages\\sklearn\\cluster\\_kmeans.py:1416: FutureWarning: The default value of `n_init` will change from 10 to 'auto' in 1.4. Set the value of `n_init` explicitly to suppress the warning\n",
      "  super()._check_params_vs_input(X, default_n_init=10)\n"
     ]
    }
   ],
   "source": [
    "# compute first K eigenvectors of the normalized Laplacian\n",
    "K=5\n",
    "normalized_L_eigenvalues, normalized_L_eigenvectors = np.linalg.eigh(normalized_laplacian)\n",
    "idx = normalized_L_eigenvalues.argsort()\n",
    "normalized_L_eigenvalues = normalized_L_eigenvalues[idx]\n",
    "normalized_L_eigenvectors = normalized_L_eigenvectors[:, idx]\n",
    "\n",
    "indicator_vectors = k_means_indicator_vectors(normalized_L_eigenvectors[:, 0:K], K)\n",
    "degrees = np.sum(adjacency_matrix_largest_cc, axis = 0)\n",
    "D_sqrt = np.diag(np.sqrt(degrees))\n",
    "\n",
    "indicator_vectors = degree_correction(indicator_vectors, D_sqrt)\n",
    "beta_K_by_K = indicator_vectors.T @ normalized_L_eigenvectors[:, 0:K]\n",
    "combined_indicator_vectors = indicator_vectors @ beta_K_by_K\n",
    "for i in range(K):\n",
    "    combined_indicator_vectors[:, i] = combined_indicator_vectors[:, i] / np.linalg.norm(\n",
    "        combined_indicator_vectors[:, i])\n",
    "    for j in range(i):\n",
    "        combined_indicator_vectors[:, i] = combined_indicator_vectors[:, i] - (\n",
    "                    combined_indicator_vectors[:, j].T @ combined_indicator_vectors[:,\n",
    "                                                         i]) * combined_indicator_vectors[:, j]\n",
    "\n",
    "rayleigh_quotients = compute_rayleigh_quotients(normalized_laplacian, combined_indicator_vectors, K)\n",
    "rayleigh_quotients = np.sort(rayleigh_quotients)"
   ],
   "metadata": {
    "collapsed": false,
    "ExecuteTime": {
     "end_time": "2025-01-09T14:32:14.175985400Z",
     "start_time": "2025-01-09T14:32:05.910697Z"
    }
   },
   "id": "6a4dccf9c3083766"
  },
  {
   "cell_type": "code",
   "execution_count": 11,
   "outputs": [
    {
     "data": {
      "text/plain": "<matplotlib.legend.Legend at 0x246d65c0910>"
     },
     "execution_count": 11,
     "metadata": {},
     "output_type": "execute_result"
    },
    {
     "data": {
      "text/plain": "<Figure size 640x480 with 1 Axes>",
      "image/png": "[encoded data removed]"
     },
     "metadata": {},
     "output_type": "display_data"
    }
   ],
   "source": [
    "# plot of eigenvalues and rayleigh quotients\n",
    "sns.scatterplot(x = [1,2,3,4,5],y = rayleigh_quotients, alpha = 0.8, marker='x', s=100, label='Rayleigh Quotients')\n",
    "sns.scatterplot(x = [1,2,3,4,5,6,7], y = normalized_L_eigenvalues[0:7], alpha = 0.8, marker = 'o',s=100, label='Eigenvalues')\n",
    "plt.legend()"
   ],
   "metadata": {
    "collapsed": false,
    "ExecuteTime": {
     "end_time": "2025-01-09T14:32:14.993683300Z",
     "start_time": "2025-01-09T14:32:14.174985400Z"
    }
   },
   "id": "38cd41263f179e8b"
  },
  {
   "cell_type": "code",
   "execution_count": 12,
   "outputs": [],
   "source": [
    "true_val_matrix_combined = normalized_L_eigenvectors[:,:5] - indicator_vectors @ (indicator_vectors.T @ normalized_L_eigenvectors[:,:5])\n",
    "true_val_combined = (1/5) * np.linalg.norm(true_val_matrix_combined)**2"
   ],
   "metadata": {
    "collapsed": false,
    "ExecuteTime": {
     "end_time": "2025-01-09T14:32:15.043508600Z",
     "start_time": "2025-01-09T14:32:14.998818100Z"
    }
   },
   "id": "924114b7d8220f04"
  },
  {
   "cell_type": "code",
   "execution_count": 13,
   "outputs": [
    {
     "name": "stdout",
     "output_type": "stream",
     "text": [
      "2.444923357268638e-13\n",
      "1.169092046284238\n",
      "0.7834362335279933\n",
      "1.191271970764126\n",
      "Difference between 0 and 1\n",
      "Rayleigh quotient indices accounted for: \n",
      "1.7101481460458732\n",
      "0.5148889442553168\n",
      "1.0079757458064487\n",
      "Difference between 1 and 3\n",
      "Rayleigh quotient indices accounted for: \n",
      "1.6260980268371068\n",
      "Difference between 3 and 4\n",
      "Rayleigh quotient indices accounted for: \n"
     ]
    }
   ],
   "source": [
    "b, v = apply_recursive_st_search(rayleigh_quotients[0:5], normalized_L_eigenvalues[0:5], 0, error = 0, bound_indices = [], values = [])"
   ],
   "metadata": {
    "collapsed": false,
    "ExecuteTime": {
     "end_time": "2025-01-09T14:32:21.691924900Z",
     "start_time": "2025-01-09T14:32:21.646101100Z"
    }
   },
   "id": "e0e6fe8e4288681d"
  },
  {
   "cell_type": "code",
   "execution_count": 14,
   "outputs": [
    {
     "data": {
      "text/plain": "0.42819739421853364"
     },
     "execution_count": 14,
     "metadata": {},
     "output_type": "execute_result"
    }
   ],
   "source": [
    "np.sum(v)/5"
   ],
   "metadata": {
    "collapsed": false,
    "ExecuteTime": {
     "end_time": "2025-01-09T14:32:22.783012700Z",
     "start_time": "2025-01-09T14:32:22.730296100Z"
    }
   },
   "id": "13d7237d9603c950"
  },
  {
   "cell_type": "code",
   "execution_count": 18,
   "outputs": [
    {
     "name": "stdout",
     "output_type": "stream",
     "text": [
      "2.444923357268638e-13\n",
      "1.7101481460458732\n",
      "0.5148889442553168\n",
      "1.0079757458064487\n",
      "Difference between 1 and 3\n",
      "Rayleigh quotient indices accounted for: \n",
      "1.626098026836609\n",
      "Difference between 3 and 4\n",
      "Rayleigh quotient indices accounted for: \n",
      "1.169092046284238\n",
      "0.7834362335279933\n",
      "1.191271970764126\n",
      "Difference between 0 and 1\n",
      "Rayleigh quotient indices accounted for: \n"
     ]
    }
   ],
   "source": [
    "b, v = apply_recursive_st_search_2step(rayleigh_quotients[0:5], normalized_L_eigenvalues[0:5], 0, error = 0, bound_indices = [], values = [])"
   ],
   "metadata": {
    "collapsed": false,
    "ExecuteTime": {
     "end_time": "2025-01-05T22:07:25.600353600Z",
     "start_time": "2025-01-05T22:07:25.492053800Z"
    }
   },
   "id": "898044df29e2a218"
  },
  {
   "cell_type": "code",
   "execution_count": 19,
   "outputs": [
    {
     "data": {
      "text/plain": "0.4281973942184341"
     },
     "execution_count": 19,
     "metadata": {},
     "output_type": "execute_result"
    }
   ],
   "source": [
    "np.sum(v)/5"
   ],
   "metadata": {
    "collapsed": false,
    "ExecuteTime": {
     "end_time": "2025-01-05T22:07:25.600353600Z",
     "start_time": "2025-01-05T22:07:25.495577Z"
    }
   },
   "id": "ab074548b20c8535"
  },
  {
   "cell_type": "code",
   "execution_count": 20,
   "outputs": [
    {
     "name": "stdout",
     "output_type": "stream",
     "text": [
      "K:  5\n",
      "Number of vertices N:  2348\n",
      "Number of edges M:  140018\n",
      "True value:  0.01277183842880367\n",
      "M&S ST:  0.43945091443546835\n",
      "General ST:  0.1914964218584773\n",
      "Recursive ST:  0.4281973942184341\n"
     ]
    }
   ],
   "source": [
    "mnist_dataset_results = {}\n",
    "print(\"K: \", K)\n",
    "mnist_dataset_results[\"K\"] = K\n",
    "print(\"Number of vertices N: \", len(adjacency_matrix_largest_cc))\n",
    "mnist_dataset_results[\"N\"] = len(adjacency_matrix_largest_cc)\n",
    "print(\"Number of edges M: \", np.sum(np.sum(adjacency_matrix_largest_cc, axis=1), axis=0))\n",
    "mnist_dataset_results[\"M\"] = np.sum(np.sum(adjacency_matrix_largest_cc, axis=1), axis=0)\n",
    "print(\"True value: \", true_val_combined)\n",
    "mnist_dataset_results[\"True Value\"] = true_val_combined\n",
    "print(\"M&S ST: \", max(np.diag(indicator_vectors.T @ normalized_laplacian @ indicator_vectors))/normalized_L_eigenvalues[K])\n",
    "mnist_dataset_results[\"M&S ST\"] = max(np.diag(indicator_vectors.T @ normalized_laplacian @ indicator_vectors))/normalized_L_eigenvalues[K]\n",
    "print(\"General ST: \", np.sum(rayleigh_quotients)/(K * normalized_L_eigenvalues[K]))\n",
    "mnist_dataset_results[\"General ST\"] = np.sum(rayleigh_quotients)/(K * normalized_L_eigenvalues[K])\n",
    "print(\"Recursive ST: \", np.sum(v)/5)\n",
    "mnist_dataset_results[\"Recursive ST\"] = np.sum(v)/5\n",
    "\n",
    "dataset_results[\"MNIST\"] = mnist_dataset_results"
   ],
   "metadata": {
    "collapsed": false,
    "ExecuteTime": {
     "end_time": "2025-01-05T22:07:25.603354100Z",
     "start_time": "2025-01-05T22:07:25.514595800Z"
    }
   },
   "id": "f49b6d1cb76c3857"
  },
  {
   "cell_type": "markdown",
   "source": [
    "# Fashion MNIST"
   ],
   "metadata": {
    "collapsed": false
   },
   "id": "861fcdab9bbda562"
  },
  {
   "cell_type": "code",
   "execution_count": 21,
   "outputs": [
    {
     "name": "stderr",
     "output_type": "stream",
     "text": [
      "C:\\Users\\georg\\AppData\\Local\\Programs\\Python\\Python311\\Lib\\site-packages\\sklearn\\datasets\\_openml.py:1022: FutureWarning: The default value of `parser` will change from `'liac-arff'` to `'auto'` in 1.4. You can set `parser='auto'` to silence this warning. Therefore, an `ImportError` will be raised from 1.4 if the dataset is dense and pandas is not installed. Note that the pandas parser may return different data types. See the Notes Section in fetch_openml's API doc for details.\n",
      "  warn(\n"
     ]
    }
   ],
   "source": [
    "# Load the MNIST dataset using OpenML\n",
    "mnist = fetch_openml('Fashion-MNIST', version=1, as_frame=False)\n",
    "x_data, y_data = mnist.data, mnist.target.astype(int)\n",
    "\n",
    "# Select 3 digits (e.g., 0, 1, and 2) and restrict to 200 samples each\n",
    "digits = [0, 1, 2]\n",
    "samples_per_digit = 1000\n",
    "selected_samples = []\n",
    "selected_labels = []\n",
    "\n",
    "# taking a sample of each digit\n",
    "for digit in digits:\n",
    "    indices = np.where(y_data == digit)[0][:samples_per_digit]\n",
    "    selected_samples.append(x_data[indices])\n",
    "    selected_labels.extend(y_data[indices])\n",
    "\n",
    "# Combine the samples into a single dataset\n",
    "selected_samples = np.vstack(selected_samples) / 255.0  # Normalize pixel values\n",
    "selected_labels = np.array(selected_labels)\n",
    "\n",
    "# Create a graph using the correlation matrix\n",
    "threshold = 0.7  # Define a threshold for edge creation\n",
    "adjacency_matrix = get_thresholded_correlation_matrix(selected_samples, threshold)\n",
    "adjacency_matrix_largest_cc, largest_cc = largest_connected_component(adjacency_matrix) \n",
    "normalized_laplacian = get_normalised_laplacian(adjacency_matrix_largest_cc)"
   ],
   "metadata": {
    "collapsed": false,
    "ExecuteTime": {
     "end_time": "2025-01-05T22:07:50.010864Z",
     "start_time": "2025-01-05T22:07:25.530888100Z"
    }
   },
   "id": "9ad8fefaac277d81"
  },
  {
   "cell_type": "code",
   "execution_count": 22,
   "outputs": [
    {
     "name": "stderr",
     "output_type": "stream",
     "text": [
      "C:\\Users\\georg\\AppData\\Local\\Programs\\Python\\Python311\\Lib\\site-packages\\sklearn\\cluster\\_kmeans.py:1416: FutureWarning: The default value of `n_init` will change from 10 to 'auto' in 1.4. Set the value of `n_init` explicitly to suppress the warning\n",
      "  super()._check_params_vs_input(X, default_n_init=10)\n"
     ]
    }
   ],
   "source": [
    "# compute first K eigenvectors of the normalized Laplacian\n",
    "K=3\n",
    "normalized_L_eigenvalues, normalized_L_eigenvectors = np.linalg.eigh(normalized_laplacian)\n",
    "idx = normalized_L_eigenvalues.argsort()\n",
    "normalized_L_eigenvalues = normalized_L_eigenvalues[idx]\n",
    "normalized_L_eigenvectors = normalized_L_eigenvectors[:, idx]\n",
    "\n",
    "indicator_vectors = k_means_indicator_vectors(normalized_L_eigenvectors[:, 0:K], K)\n",
    "degrees = np.sum(adjacency_matrix_largest_cc, axis = 0)\n",
    "D_sqrt = np.diag(np.sqrt(degrees))\n",
    "\n",
    "indicator_vectors = degree_correction(indicator_vectors, D_sqrt)\n",
    "beta_K_by_K = indicator_vectors.T @ normalized_L_eigenvectors[:, 0:K]\n",
    "combined_indicator_vectors = indicator_vectors @ beta_K_by_K\n",
    "for i in range(K):\n",
    "    combined_indicator_vectors[:, i] = combined_indicator_vectors[:, i] / np.linalg.norm(\n",
    "        combined_indicator_vectors[:, i])\n",
    "    for j in range(i):\n",
    "        combined_indicator_vectors[:, i] = combined_indicator_vectors[:, i] - (\n",
    "                    combined_indicator_vectors[:, j].T @ combined_indicator_vectors[:,\n",
    "                                                         i]) * combined_indicator_vectors[:, j]\n",
    "\n",
    "rayleigh_quotients = compute_rayleigh_quotients(normalized_laplacian, combined_indicator_vectors, K)\n",
    "rayleigh_quotients = np.sort(rayleigh_quotients)"
   ],
   "metadata": {
    "collapsed": false,
    "ExecuteTime": {
     "end_time": "2025-01-05T22:07:53.328398500Z",
     "start_time": "2025-01-05T22:07:50.018851400Z"
    }
   },
   "id": "db4fff00980e6e78"
  },
  {
   "cell_type": "code",
   "execution_count": 23,
   "outputs": [
    {
     "data": {
      "text/plain": "<matplotlib.legend.Legend at 0x17d000c9d10>"
     },
     "execution_count": 23,
     "metadata": {},
     "output_type": "execute_result"
    },
    {
     "data": {
      "text/plain": "<Figure size 640x480 with 1 Axes>",
      "image/png": "[encoded data removed]"
     },
     "metadata": {},
     "output_type": "display_data"
    }
   ],
   "source": [
    "# plot of eigenvalues and rayleigh quotients\n",
    "sns.scatterplot(x=[1, 2, 3], y=rayleigh_quotients, alpha=0.8, marker='x', s=100, label='Rayleigh Quotients')\n",
    "sns.scatterplot(x=[1, 2, 3, 4, 5], y=normalized_L_eigenvalues[0:5], alpha=0.8, marker='o', s=100, label='Eigenvalues')\n",
    "plt.legend()"
   ],
   "metadata": {
    "collapsed": false,
    "ExecuteTime": {
     "end_time": "2025-01-05T22:07:53.590473100Z",
     "start_time": "2025-01-05T22:07:53.331716900Z"
    }
   },
   "id": "164637740854c67a"
  },
  {
   "cell_type": "code",
   "execution_count": 24,
   "outputs": [
    {
     "name": "stdout",
     "output_type": "stream",
     "text": [
      "1.7102204913152657e-14\n",
      "0.9439147809984682\n",
      "1.6060111754113842\n",
      "Difference between 0 and 1\n",
      "Rayleigh quotient indices accounted for: \n",
      "0.892302020502785\n",
      "1.4375445436022487\n",
      "Difference between 1 and 2\n",
      "Rayleigh quotient indices accounted for: \n",
      "3.4222890474929346\n",
      "Difference between 2 and 3\n",
      "Rayleigh quotient indices accounted for: \n"
     ]
    },
    {
     "data": {
      "text/plain": "1.4381970226652456"
     },
     "execution_count": 24,
     "metadata": {},
     "output_type": "execute_result"
    }
   ],
   "source": [
    "b, v = apply_recursive_st_search(rayleigh_quotients[0:4], normalized_L_eigenvalues[0:4], 0, error = 0, bound_indices = [], values = [])\n",
    "np.sum(v)/3"
   ],
   "metadata": {
    "collapsed": false,
    "ExecuteTime": {
     "end_time": "2025-01-05T22:07:53.597835500Z",
     "start_time": "2025-01-05T22:07:53.592390200Z"
    }
   },
   "id": "bdd899aca2aa5042"
  },
  {
   "cell_type": "code",
   "execution_count": 25,
   "outputs": [
    {
     "name": "stdout",
     "output_type": "stream",
     "text": [
      "1.7102204913152657e-14\n",
      "0.892302020502785\n",
      "1.4375445436022487\n",
      "Difference between 1 and 2\n",
      "Rayleigh quotient indices accounted for: \n",
      "3.4222890474928893\n",
      "Difference between 2 and 3\n",
      "Rayleigh quotient indices accounted for: \n",
      "0.9439147809984682\n",
      "1.6060111754113842\n",
      "Difference between 0 and 1\n",
      "Rayleigh quotient indices accounted for: \n"
     ]
    }
   ],
   "source": [
    "b2, v2 = apply_recursive_st_search_2step(rayleigh_quotients[0:4], normalized_L_eigenvalues[0:4], 0, error = 0, bound_indices = [], values = [])"
   ],
   "metadata": {
    "collapsed": false,
    "ExecuteTime": {
     "end_time": "2025-01-05T22:07:53.610969800Z",
     "start_time": "2025-01-05T22:07:53.600066Z"
    }
   },
   "id": "69b7e029cf79a7b9"
  },
  {
   "cell_type": "code",
   "execution_count": 26,
   "outputs": [
    {
     "data": {
      "text/plain": "1.4381970226652303"
     },
     "execution_count": 26,
     "metadata": {},
     "output_type": "execute_result"
    }
   ],
   "source": [
    "np.sum(v2)/3"
   ],
   "metadata": {
    "collapsed": false,
    "ExecuteTime": {
     "end_time": "2025-01-05T22:07:53.689672200Z",
     "start_time": "2025-01-05T22:07:53.605096500Z"
    }
   },
   "id": "586af9c14640d3f7"
  },
  {
   "cell_type": "code",
   "execution_count": 27,
   "outputs": [
    {
     "name": "stdout",
     "output_type": "stream",
     "text": [
      "K:  3\n",
      "Number of vertices N:  2875\n",
      "Number of edges M:  1711217\n",
      "True value:  0.04341537349979763\n",
      "M&S ST:  1.0160649241306232\n",
      "General ST:  0.5353370584704586\n",
      "Recursive ST:  1.4381970226652456\n"
     ]
    }
   ],
   "source": [
    "true_val_matrix_combined = normalized_L_eigenvectors[:, :3] - indicator_vectors @ (\n",
    "            indicator_vectors.T @ normalized_L_eigenvectors[:, :3])\n",
    "true_val_combined = (1 / 3) * np.linalg.norm(true_val_matrix_combined) ** 2\n",
    "\n",
    "fashion_mnist_dataset_results = {}\n",
    "print(\"K: \", K)\n",
    "fashion_mnist_dataset_results[\"K\"] = K\n",
    "print(\"Number of vertices N: \", len(adjacency_matrix_largest_cc))\n",
    "fashion_mnist_dataset_results[\"N\"] = len(adjacency_matrix_largest_cc)\n",
    "print(\"Number of edges M: \", np.sum(np.sum(adjacency_matrix_largest_cc, axis=1), axis=0))\n",
    "fashion_mnist_dataset_results[\"M\"] = np.sum(np.sum(adjacency_matrix_largest_cc, axis=1), axis=0)\n",
    "print(\"True value: \", true_val_combined)\n",
    "fashion_mnist_dataset_results[\"True Value\"] = true_val_combined\n",
    "print(\"M&S ST: \", max(np.diag(indicator_vectors.T @ normalized_laplacian @ indicator_vectors))/normalized_L_eigenvalues[K])\n",
    "fashion_mnist_dataset_results[\"M&S ST\"] = max(np.diag(indicator_vectors.T @ normalized_laplacian @ indicator_vectors))/normalized_L_eigenvalues[K]\n",
    "print(\"General ST: \", np.sum(rayleigh_quotients)/(K * normalized_L_eigenvalues[K]))\n",
    "fashion_mnist_dataset_results[\"General ST\"] = np.sum(rayleigh_quotients)/(K * normalized_L_eigenvalues[K])\n",
    "print(\"Recursive ST: \", np.sum(v)/3)\n",
    "fashion_mnist_dataset_results[\"Recursive ST\"] = np.sum(v)/3\n",
    "\n",
    "dataset_results[\"Fashion MNIST\"] = fashion_mnist_dataset_results"
   ],
   "metadata": {
    "collapsed": false,
    "ExecuteTime": {
     "end_time": "2025-01-05T22:07:53.710427900Z",
     "start_time": "2025-01-05T22:07:53.620099Z"
    }
   },
   "id": "19c190d078a67219"
  },
  {
   "cell_type": "markdown",
   "source": [
    "# IRIS"
   ],
   "metadata": {
    "collapsed": false
   },
   "id": "a74bd79bfd4502fe"
  },
  {
   "cell_type": "code",
   "execution_count": 28,
   "outputs": [
    {
     "name": "stderr",
     "output_type": "stream",
     "text": [
      "C:\\Users\\georg\\AppData\\Local\\Programs\\Python\\Python311\\Lib\\site-packages\\sklearn\\datasets\\_openml.py:1022: FutureWarning: The default value of `parser` will change from `'liac-arff'` to `'auto'` in 1.4. You can set `parser='auto'` to silence this warning. Therefore, an `ImportError` will be raised from 1.4 if the dataset is dense and pandas is not installed. Note that the pandas parser may return different data types. See the Notes Section in fetch_openml's API doc for details.\n",
      "  warn(\n"
     ]
    }
   ],
   "source": [
    "iris = fetch_openml('iris', version=1, as_frame=False)\n",
    "x_data, y_data = iris.data, iris.target\n",
    "\n",
    "targets = np.unique(y_data).tolist()\n",
    "\n",
    "selected_samples = []\n",
    "selected_labels = []\n",
    "\n",
    "for target in targets:\n",
    "    indices = np.where(y_data == target)[0]\n",
    "    selected_samples.append(x_data[indices])\n",
    "    selected_labels.extend(y_data[indices])\n",
    "\n",
    "selected_samples = np.vstack(selected_samples)\n",
    "selected_labels = np.array(selected_labels)\n",
    "# Calculate the Pearson correlation matrix\n",
    "adjacency_matrix = knn_adjacency_matrix(x_data,5)\n",
    "normalized_laplacian = get_normalised_laplacian(adjacency_matrix)\n"
   ],
   "metadata": {
    "collapsed": false,
    "ExecuteTime": {
     "end_time": "2025-01-05T22:07:53.710427900Z",
     "start_time": "2025-01-05T22:07:53.648489200Z"
    }
   },
   "id": "81d5a72c19de8466"
  },
  {
   "cell_type": "code",
   "execution_count": 29,
   "outputs": [
    {
     "name": "stderr",
     "output_type": "stream",
     "text": [
      "C:\\Users\\georg\\AppData\\Local\\Programs\\Python\\Python311\\Lib\\site-packages\\sklearn\\cluster\\_kmeans.py:1416: FutureWarning: The default value of `n_init` will change from 10 to 'auto' in 1.4. Set the value of `n_init` explicitly to suppress the warning\n",
      "  super()._check_params_vs_input(X, default_n_init=10)\n"
     ]
    }
   ],
   "source": [
    "# compute first K eigenvectors of the normalized Laplacian\n",
    "K=3\n",
    "normalized_L_eigenvalues, normalized_L_eigenvectors = np.linalg.eigh(normalized_laplacian)\n",
    "idx = normalized_L_eigenvalues.argsort()\n",
    "normalized_L_eigenvalues = normalized_L_eigenvalues[idx]\n",
    "normalized_L_eigenvectors = normalized_L_eigenvectors[:, idx]\n",
    "\n",
    "indicator_vectors = k_means_indicator_vectors(normalized_L_eigenvectors[:, 0:K], K)\n",
    "degrees = np.sum(adjacency_matrix, axis = 0)\n",
    "D_sqrt = np.diag(np.sqrt(degrees))\n",
    "\n",
    "indicator_vectors = degree_correction(indicator_vectors, D_sqrt)\n",
    "beta_K_by_K = indicator_vectors.T @ normalized_L_eigenvectors[:, 0:K]\n",
    "combined_indicator_vectors = indicator_vectors @ beta_K_by_K\n",
    "for i in range(K):\n",
    "    combined_indicator_vectors[:, i] = combined_indicator_vectors[:, i] / np.linalg.norm(\n",
    "        combined_indicator_vectors[:, i])\n",
    "    for j in range(i):\n",
    "        combined_indicator_vectors[:, i] = combined_indicator_vectors[:, i] - (\n",
    "                    combined_indicator_vectors[:, j].T @ combined_indicator_vectors[:,\n",
    "                                                         i]) * combined_indicator_vectors[:, j]\n",
    "\n",
    "rayleigh_quotients = compute_rayleigh_quotients(normalized_laplacian, combined_indicator_vectors, K)\n",
    "rayleigh_quotients = np.sort(rayleigh_quotients)"
   ],
   "metadata": {
    "collapsed": false,
    "ExecuteTime": {
     "end_time": "2025-01-05T22:07:53.710427900Z",
     "start_time": "2025-01-05T22:07:53.674373800Z"
    }
   },
   "id": "e68fd7d1b718e8ce"
  },
  {
   "cell_type": "code",
   "execution_count": 30,
   "outputs": [
    {
     "data": {
      "text/plain": "<Axes: >"
     },
     "execution_count": 30,
     "metadata": {},
     "output_type": "execute_result"
    },
    {
     "data": {
      "text/plain": "<Figure size 640x480 with 2 Axes>",
      "image/png": "[encoded data removed]"
     },
     "metadata": {},
     "output_type": "display_data"
    }
   ],
   "source": [
    "sns.heatmap(adjacency_matrix)"
   ],
   "metadata": {
    "collapsed": false,
    "ExecuteTime": {
     "end_time": "2025-01-05T22:07:54.172509600Z",
     "start_time": "2025-01-05T22:07:53.710427900Z"
    }
   },
   "id": "94cac2fc33e82b15"
  },
  {
   "cell_type": "code",
   "execution_count": 31,
   "outputs": [
    {
     "data": {
      "text/plain": "<matplotlib.legend.Legend at 0x17d02288050>"
     },
     "execution_count": 31,
     "metadata": {},
     "output_type": "execute_result"
    },
    {
     "data": {
      "text/plain": "<Figure size 640x480 with 1 Axes>",
      "image/png": "[encoded data removed]"
     },
     "metadata": {},
     "output_type": "display_data"
    }
   ],
   "source": [
    "# plot of eigenvalues and rayleigh quotients\n",
    "sns.scatterplot(x=[1, 2, 3], y=rayleigh_quotients, alpha=0.8, marker='x', s=100, label='Rayleigh Quotients')\n",
    "sns.scatterplot(x=[1, 2, 3, 4, 5], y=normalized_L_eigenvalues[0:5], alpha=0.8, marker='o', s=100, label='Eigenvalues')\n",
    "plt.legend()"
   ],
   "metadata": {
    "collapsed": false,
    "ExecuteTime": {
     "end_time": "2025-01-05T22:07:54.393810400Z",
     "start_time": "2025-01-05T22:07:54.206053900Z"
    }
   },
   "id": "be4ea4ff619689da"
  },
  {
   "cell_type": "code",
   "execution_count": 32,
   "outputs": [
    {
     "name": "stdout",
     "output_type": "stream",
     "text": [
      "0.0\n",
      "1.0081185368112362\n",
      "Difference between 0 and 1\n",
      "Rayleigh quotient indices accounted for: \n",
      "0.0\n",
      "1.0081185368112362\n",
      "Difference between 1 and 2\n",
      "Rayleigh quotient indices accounted for: \n",
      "1.0116114790286976\n",
      "Difference between 2 and 3\n",
      "Rayleigh quotient indices accounted for: \n"
     ]
    }
   ],
   "source": [
    "rayleigh_quotients = np.round(rayleigh_quotients,6)\n",
    "normalized_L_eigenvalues = np.round(normalized_L_eigenvalues,6)\n",
    "b, v = apply_recursive_st_search(rayleigh_quotients[0:4], normalized_L_eigenvalues[0:4], 0, error = 0, bound_indices = [], values = [])"
   ],
   "metadata": {
    "collapsed": false,
    "ExecuteTime": {
     "end_time": "2025-01-05T22:07:54.410828700Z",
     "start_time": "2025-01-05T22:07:54.397821Z"
    }
   },
   "id": "35728e46bb2b04b2"
  },
  {
   "cell_type": "code",
   "execution_count": 33,
   "outputs": [
    {
     "name": "stdout",
     "output_type": "stream",
     "text": [
      "N:  150\n",
      "K:  3\n",
      "True value:  0.05993164395890421\n",
      "M&S ST:  0.6457941686078185\n",
      "Recursive ST:  0.3372038263428992\n",
      "K:  3\n",
      "Number of vertices N:  150\n",
      "Number of edges M:  1027.0\n",
      "True value:  0.05993164395890421\n",
      "M&S ST:  0.6457941686078185\n",
      "General ST:  0.3360395122704121\n",
      "Recursive ST:  0.3372038263428992\n"
     ]
    }
   ],
   "source": [
    "true_val_matrix_combined = normalized_L_eigenvectors[:, :3] - indicator_vectors @ (\n",
    "            indicator_vectors.T @ normalized_L_eigenvectors[:, :3])\n",
    "true_val_combined = (1 / 3) * np.linalg.norm(true_val_matrix_combined) ** 2\n",
    "print(\"N: \", len(adjacency_matrix))\n",
    "print(\"K: \", K)\n",
    "print(\"True value: \", true_val_combined)\n",
    "print(\"M&S ST: \",\n",
    "      max(np.diag(indicator_vectors.T @ normalized_laplacian @ indicator_vectors)) / normalized_L_eigenvalues[K])\n",
    "#print(\"General ST: \", max(rayleigh_quotients)/normalized_L_eigenvalues[K])\n",
    "\n",
    "B_1 = rayleigh_quotients[0] / normalized_L_eigenvalues[1] if rayleigh_quotients[0] > 0 else 0\n",
    "B_2 = ((rayleigh_quotients[1] - normalized_L_eigenvalues[1]) + normalized_L_eigenvalues[2] * B_1) / (\n",
    "            normalized_L_eigenvalues[2] - normalized_L_eigenvalues[1]) if rayleigh_quotients[1] > 0 else 0\n",
    "B_3 = ((rayleigh_quotients[2] - normalized_L_eigenvalues[2]) + normalized_L_eigenvalues[3] * (B_1 + B_2)) / (\n",
    "            normalized_L_eigenvalues[3] - normalized_L_eigenvalues[2])\n",
    "print(\"Recursive ST: \", (B_1 + B_2 + B_3) / 3)\n",
    "\n",
    "iris_dataset_results = {}\n",
    "print(\"K: \", K)\n",
    "iris_dataset_results[\"K\"] = K\n",
    "print(\"Number of vertices N: \", len(adjacency_matrix))\n",
    "iris_dataset_results[\"N\"] = len(adjacency_matrix)\n",
    "print(\"Number of edges M: \", np.sum(np.sum(adjacency_matrix, axis=1), axis=0))\n",
    "iris_dataset_results[\"M\"] = np.sum(np.sum(adjacency_matrix, axis=1), axis=0)\n",
    "print(\"True value: \", true_val_combined)\n",
    "iris_dataset_results[\"True Value\"] = true_val_combined\n",
    "print(\"M&S ST: \", max(np.diag(indicator_vectors.T @ normalized_laplacian @ indicator_vectors))/normalized_L_eigenvalues[K])\n",
    "iris_dataset_results[\"M&S ST\"] = max(np.diag(indicator_vectors.T @ normalized_laplacian @ indicator_vectors))/normalized_L_eigenvalues[K]\n",
    "print(\"General ST: \", np.sum(rayleigh_quotients)/(K * normalized_L_eigenvalues[K]))\n",
    "iris_dataset_results[\"General ST\"] = np.sum(rayleigh_quotients)/(K * normalized_L_eigenvalues[K])\n",
    "print(\"Recursive ST: \", np.sum(v)/K)\n",
    "iris_dataset_results[\"Recursive ST\"] = np.sum(v)/K\n",
    "\n",
    "dataset_results[\"IRIS\"] = iris_dataset_results"
   ],
   "metadata": {
    "collapsed": false,
    "ExecuteTime": {
     "end_time": "2025-01-05T22:07:54.415070800Z",
     "start_time": "2025-01-05T22:07:54.398841700Z"
    }
   },
   "id": "8cc33422b63f5345"
  },
  {
   "cell_type": "markdown",
   "source": [
    "| Dataset         | N   | K | True Value | M&S ST  | Recursive ST |\n",
    "|-----------------|-----|---|------------|---------|--------------|\n",
    "| MNIST           | 530 | 3 | 0.0152     | 0.4705  | 0.1653       |\n",
    "| Fashion MNIST   | 560 | 3 | 0.0306     | 0.2987  | 0.1696       |\n",
    "| IRIS            | 150 | 3 | 0.0599     | 0.6458  | 0.3377       |\n",
    "\n"
   ],
   "metadata": {
    "collapsed": false
   },
   "id": "c9c68ef1a863aaef"
  },
  {
   "cell_type": "markdown",
   "source": [
    "# Wine Dataset"
   ],
   "metadata": {
    "collapsed": false
   },
   "id": "4175dddc7072f30f"
  },
  {
   "cell_type": "code",
   "execution_count": 34,
   "outputs": [],
   "source": [
    "wine_df = pd.read_csv(\"Data/Wine dataset.csv\")"
   ],
   "metadata": {
    "collapsed": false,
    "ExecuteTime": {
     "end_time": "2025-01-05T22:07:54.472310200Z",
     "start_time": "2025-01-05T22:07:54.410828700Z"
    }
   },
   "id": "3c48133cb65b2f08"
  },
  {
   "cell_type": "code",
   "execution_count": 35,
   "outputs": [
    {
     "data": {
      "text/plain": "    Alcohol  Malic acid       Ash  Alcalinity of ash  Magnesium  \\\n0  1.514341   -0.560668  0.231400          -1.166303   1.908522   \n1  0.245597   -0.498009 -0.825667          -2.483841   0.018094   \n2  0.196325    0.021172  1.106214          -0.267982   0.088110   \n3  1.686791   -0.345835  0.486554          -0.806975   0.928300   \n4  0.294868    0.227053  1.835226           0.450674   1.278379   \n\n   Total phenols  Flavanoids  Nonflavanoid phenols  Proanthocyanins  \\\n0       0.806722    1.031908             -0.657708         1.221438   \n1       0.567048    0.731565             -0.818411        -0.543189   \n2       0.806722    1.212114             -0.497005         2.129959   \n3       2.484437    1.462399             -0.979113         1.029251   \n4       0.806722    0.661485              0.226158         0.400275   \n\n   Color intensity       Hue  OD280/OD315 of diluted wines  Proline   \n0         0.251009  0.361158                      1.842721  1.010159  \n1        -0.292496  0.404908                      1.110317  0.962526  \n2         0.268263  0.317409                      0.786369  1.391224  \n3         1.182732 -0.426341                      1.180741  2.328007  \n4        -0.318377  0.361158                      0.448336 -0.037767  ",
      "text/html": "<div>\n<style scoped>\n    .dataframe tbody tr th:only-of-type {\n        vertical-align: middle;\n    }\n\n    .dataframe tbody tr th {\n        vertical-align: top;\n    }\n\n    .dataframe thead th {\n        text-align: right;\n    }\n</style>\n<table border=\"1\" class=\"dataframe\">\n  <thead>\n    <tr style=\"text-align: right;\">\n      <th></th>\n      <th>Alcohol</th>\n      <th>Malic acid</th>\n      <th>Ash</th>\n      <th>Alcalinity of ash</th>\n      <th>Magnesium</th>\n      <th>Total phenols</th>\n      <th>Flavanoids</th>\n      <th>Nonflavanoid phenols</th>\n      <th>Proanthocyanins</th>\n      <th>Color intensity</th>\n      <th>Hue</th>\n      <th>OD280/OD315 of diluted wines</th>\n      <th>Proline</th>\n    </tr>\n  </thead>\n  <tbody>\n    <tr>\n      <th>0</th>\n      <td>1.514341</td>\n      <td>-0.560668</td>\n      <td>0.231400</td>\n      <td>-1.166303</td>\n      <td>1.908522</td>\n      <td>0.806722</td>\n      <td>1.031908</td>\n      <td>-0.657708</td>\n      <td>1.221438</td>\n      <td>0.251009</td>\n      <td>0.361158</td>\n      <td>1.842721</td>\n      <td>1.010159</td>\n    </tr>\n    <tr>\n      <th>1</th>\n      <td>0.245597</td>\n      <td>-0.498009</td>\n      <td>-0.825667</td>\n      <td>-2.483841</td>\n      <td>0.018094</td>\n      <td>0.567048</td>\n      <td>0.731565</td>\n      <td>-0.818411</td>\n      <td>-0.543189</td>\n      <td>-0.292496</td>\n      <td>0.404908</td>\n      <td>1.110317</td>\n      <td>0.962526</td>\n    </tr>\n    <tr>\n      <th>2</th>\n      <td>0.196325</td>\n      <td>0.021172</td>\n      <td>1.106214</td>\n      <td>-0.267982</td>\n      <td>0.088110</td>\n      <td>0.806722</td>\n      <td>1.212114</td>\n      <td>-0.497005</td>\n      <td>2.129959</td>\n      <td>0.268263</td>\n      <td>0.317409</td>\n      <td>0.786369</td>\n      <td>1.391224</td>\n    </tr>\n    <tr>\n      <th>3</th>\n      <td>1.686791</td>\n      <td>-0.345835</td>\n      <td>0.486554</td>\n      <td>-0.806975</td>\n      <td>0.928300</td>\n      <td>2.484437</td>\n      <td>1.462399</td>\n      <td>-0.979113</td>\n      <td>1.029251</td>\n      <td>1.182732</td>\n      <td>-0.426341</td>\n      <td>1.180741</td>\n      <td>2.328007</td>\n    </tr>\n    <tr>\n      <th>4</th>\n      <td>0.294868</td>\n      <td>0.227053</td>\n      <td>1.835226</td>\n      <td>0.450674</td>\n      <td>1.278379</td>\n      <td>0.806722</td>\n      <td>0.661485</td>\n      <td>0.226158</td>\n      <td>0.400275</td>\n      <td>-0.318377</td>\n      <td>0.361158</td>\n      <td>0.448336</td>\n      <td>-0.037767</td>\n    </tr>\n  </tbody>\n</table>\n</div>"
     },
     "execution_count": 35,
     "metadata": {},
     "output_type": "execute_result"
    }
   ],
   "source": [
    "wine_df_targets = wine_df['class']\n",
    "wine_df_features = wine_df.drop(columns = ['class'])\n",
    "wine_df_features_normalized = (wine_df_features - wine_df_features.mean())/wine_df_features.std()\n",
    "wine_df_features_normalized.head()"
   ],
   "metadata": {
    "collapsed": false,
    "ExecuteTime": {
     "end_time": "2025-01-05T22:07:54.491426300Z",
     "start_time": "2025-01-05T22:07:54.440912600Z"
    }
   },
   "id": "48c25cf91488e873"
  },
  {
   "cell_type": "code",
   "execution_count": 36,
   "outputs": [
    {
     "data": {
      "text/plain": "array([[ 0.93665081,  0.70184685,  0.3630285 , ..., -0.32185096,\n        -0.2505038 , -0.76827041],\n       [ 0.70184685,  0.93622896,  0.28952793, ..., -0.44112901,\n        -0.45162726, -0.87082049],\n       [ 0.3630285 ,  0.28952793,  0.54812415, ..., -0.40194741,\n        -0.34428338, -0.50324177],\n       ...,\n       [-0.32185096, -0.44112901, -0.40194741, ...,  1.5529139 ,\n         1.25238444,  1.16647352],\n       [-0.2505038 , -0.45162726, -0.34428338, ...,  1.25238444,\n         1.22720324,  1.03076966],\n       [-0.76827041, -0.87082049, -0.50324177, ...,  1.16647352,\n         1.03076966,  1.67590286]])"
     },
     "execution_count": 36,
     "metadata": {},
     "output_type": "execute_result"
    }
   ],
   "source": [
    "wine_df_features_cov = np.cov(wine_df_features_normalized)\n",
    "wine_df_features_cov"
   ],
   "metadata": {
    "collapsed": false,
    "ExecuteTime": {
     "end_time": "2025-01-05T22:07:54.491426300Z",
     "start_time": "2025-01-05T22:07:54.458692400Z"
    }
   },
   "id": "e73a0a124ef0c236"
  },
  {
   "cell_type": "code",
   "execution_count": 37,
   "outputs": [
    {
     "name": "stderr",
     "output_type": "stream",
     "text": [
      "C:\\Users\\georg\\AppData\\Local\\Programs\\Python\\Python311\\Lib\\site-packages\\sklearn\\cluster\\_kmeans.py:1416: FutureWarning: The default value of `n_init` will change from 10 to 'auto' in 1.4. Set the value of `n_init` explicitly to suppress the warning\n",
      "  super()._check_params_vs_input(X, default_n_init=10)\n"
     ]
    }
   ],
   "source": [
    "wine_df_features_cov_thresholded = wine_df_features_cov.copy()\n",
    "wine_df_features_cov_thresholded[wine_df_features_cov_thresholded < 0.3] = 0\n",
    "wine_df_features_cov_thresholded[wine_df_features_cov_thresholded >= 0.3] = 1 \n",
    "adjacency_matrix = wine_df_features_cov_thresholded.copy()\n",
    "\n",
    "normalized_laplacian = get_normalised_laplacian(adjacency_matrix)\n",
    "\n",
    "# compute first K eigenvectors of the normalized Laplacian\n",
    "K = 3\n",
    "normalized_L_eigenvalues, normalized_L_eigenvectors = np.linalg.eigh(normalized_laplacian)\n",
    "idx = normalized_L_eigenvalues.argsort()\n",
    "normalized_L_eigenvalues = normalized_L_eigenvalues[idx]\n",
    "normalized_L_eigenvectors = normalized_L_eigenvectors[:, idx]\n",
    "\n",
    "indicator_vectors = k_means_indicator_vectors(normalized_L_eigenvectors[:, 0:K], K)\n",
    "degrees = np.sum(adjacency_matrix, axis=0)\n",
    "D_sqrt = np.diag(np.sqrt(degrees))\n",
    "\n",
    "indicator_vectors = degree_correction(indicator_vectors, D_sqrt)\n",
    "beta_K_by_K = indicator_vectors.T @ normalized_L_eigenvectors[:, 0:K]\n",
    "combined_indicator_vectors = indicator_vectors @ beta_K_by_K\n",
    "for i in range(K):\n",
    "    combined_indicator_vectors[:, i] = combined_indicator_vectors[:, i] / np.linalg.norm(\n",
    "        combined_indicator_vectors[:, i])\n",
    "    for j in range(i):\n",
    "        combined_indicator_vectors[:, i] = combined_indicator_vectors[:, i] - (\n",
    "                combined_indicator_vectors[:, j].T @ combined_indicator_vectors[:,\n",
    "                                                     i]) * combined_indicator_vectors[:, j]\n",
    "\n",
    "rayleigh_quotients = compute_rayleigh_quotients(normalized_laplacian, combined_indicator_vectors, K)\n",
    "rayleigh_quotients = np.sort(rayleigh_quotients)"
   ],
   "metadata": {
    "collapsed": false,
    "ExecuteTime": {
     "end_time": "2025-01-05T22:07:54.547839900Z",
     "start_time": "2025-01-05T22:07:54.469777Z"
    }
   },
   "id": "bd36e1380bbb8723"
  },
  {
   "cell_type": "code",
   "execution_count": 38,
   "outputs": [
    {
     "data": {
      "text/plain": "<matplotlib.legend.Legend at 0x17d02307d50>"
     },
     "execution_count": 38,
     "metadata": {},
     "output_type": "execute_result"
    },
    {
     "data": {
      "text/plain": "<Figure size 640x480 with 1 Axes>",
      "image/png": "[encoded data removed]"
     },
     "metadata": {},
     "output_type": "display_data"
    }
   ],
   "source": [
    "# plot of eigenvalues and rayleigh quotients\n",
    "sns.scatterplot(x=[1, 2, 3], y=rayleigh_quotients, alpha=0.8, marker='x', s=100, label='Rayleigh Quotients')\n",
    "sns.scatterplot(x=[1, 2, 3, 4, 5], y=normalized_L_eigenvalues[0:5], alpha=0.8, marker='o', s=100, label='Eigenvalues')\n",
    "plt.legend()"
   ],
   "metadata": {
    "collapsed": false,
    "ExecuteTime": {
     "end_time": "2025-01-05T22:07:54.818856Z",
     "start_time": "2025-01-05T22:07:54.529893300Z"
    }
   },
   "id": "18987b753ff3030d"
  },
  {
   "cell_type": "code",
   "execution_count": 39,
   "outputs": [
    {
     "name": "stdout",
     "output_type": "stream",
     "text": [
      "0.0\n",
      "0.4153526625421877\n",
      "0.7826025116008938\n",
      "Difference between 0 and 1\n",
      "Rayleigh quotient indices accounted for: \n",
      "0.26389214392322774\n",
      "0.6724428378780111\n",
      "Difference between 1 and 2\n",
      "Rayleigh quotient indices accounted for: \n",
      "0.7972055791736885\n",
      "Difference between 2 and 3\n",
      "Rayleigh quotient indices accounted for: \n",
      "K:  3\n",
      "Number of vertices N:  178\n",
      "Number of edges M:  6890.0\n",
      "True value:  0.06456321090483377\n",
      "M&S ST:  0.4498140716518029\n",
      "General ST:  0.2608675038669646\n",
      "Recursive ST:  0.35369924103230543\n"
     ]
    }
   ],
   "source": [
    "true_val_matrix_combined = normalized_L_eigenvectors[:, :3] - indicator_vectors @ (\n",
    "        indicator_vectors.T @ normalized_L_eigenvectors[:, :3])\n",
    "true_val_combined = (1 / 3) * np.linalg.norm(true_val_matrix_combined) ** 2\n",
    "\n",
    "rayleigh_quotients = np.round(rayleigh_quotients, 6)\n",
    "normalized_L_eigenvalues = np.round(normalized_L_eigenvalues, 6)\n",
    "\n",
    "b, v = apply_recursive_st_search(rayleigh_quotients[0:4], normalized_L_eigenvalues[0:4], 0, error = 0, bound_indices = [], values = [])\n",
    "\n",
    "wine_dataset_results = {}\n",
    "print(\"K: \", K)\n",
    "wine_dataset_results[\"K\"] = K\n",
    "print(\"Number of vertices N: \", len(adjacency_matrix))\n",
    "wine_dataset_results[\"N\"] = len(adjacency_matrix)\n",
    "print(\"Number of edges M: \", np.sum(np.sum(adjacency_matrix, axis=1), axis=0))\n",
    "wine_dataset_results[\"M\"] = np.sum(np.sum(adjacency_matrix, axis=1), axis=0)\n",
    "print(\"True value: \", true_val_combined)\n",
    "wine_dataset_results[\"True Value\"] = true_val_combined\n",
    "print(\"M&S ST: \", max(np.diag(indicator_vectors.T @ normalized_laplacian @ indicator_vectors))/normalized_L_eigenvalues[K])\n",
    "wine_dataset_results[\"M&S ST\"] = max(np.diag(indicator_vectors.T @ normalized_laplacian @ indicator_vectors))/normalized_L_eigenvalues[K]\n",
    "print(\"General ST: \", np.sum(rayleigh_quotients)/(K * normalized_L_eigenvalues[K]))\n",
    "wine_dataset_results[\"General ST\"] = np.sum(rayleigh_quotients)/(K * normalized_L_eigenvalues[K])\n",
    "print(\"Recursive ST: \", np.sum(v)/3)\n",
    "wine_dataset_results[\"Recursive ST\"] = np.sum(v)/3\n",
    "\n",
    "dataset_results[\"Wine\"] = wine_dataset_results"
   ],
   "metadata": {
    "collapsed": false,
    "ExecuteTime": {
     "end_time": "2025-01-05T22:07:54.818856Z",
     "start_time": "2025-01-05T22:07:54.798755500Z"
    }
   },
   "id": "f46abf5f8df6e115"
  },
  {
   "cell_type": "code",
   "execution_count": 40,
   "outputs": [
    {
     "data": {
      "text/plain": "                 K       N          M  True Value    M&S ST  General ST  \\\nMNIST          5.0  2348.0   140018.0    0.012772  0.439451    0.191496   \nFashion MNIST  3.0  2875.0  1711217.0    0.043415  1.016065    0.535337   \nIRIS           3.0   150.0     1027.0    0.059932  0.645794    0.336040   \nWine           3.0   178.0     6890.0    0.064563  0.449814    0.260868   \n\n               Recursive ST  \nMNIST              0.428197  \nFashion MNIST      1.438197  \nIRIS               0.337204  \nWine               0.353699  ",
      "text/html": "<div>\n<style scoped>\n    .dataframe tbody tr th:only-of-type {\n        vertical-align: middle;\n    }\n\n    .dataframe tbody tr th {\n        vertical-align: top;\n    }\n\n    .dataframe thead th {\n        text-align: right;\n    }\n</style>\n<table border=\"1\" class=\"dataframe\">\n  <thead>\n    <tr style=\"text-align: right;\">\n      <th></th>\n      <th>K</th>\n      <th>N</th>\n      <th>M</th>\n      <th>True Value</th>\n      <th>M&amp;S ST</th>\n      <th>General ST</th>\n      <th>Recursive ST</th>\n    </tr>\n  </thead>\n  <tbody>\n    <tr>\n      <th>MNIST</th>\n      <td>5.0</td>\n      <td>2348.0</td>\n      <td>140018.0</td>\n      <td>0.012772</td>\n      <td>0.439451</td>\n      <td>0.191496</td>\n      <td>0.428197</td>\n    </tr>\n    <tr>\n      <th>Fashion MNIST</th>\n      <td>3.0</td>\n      <td>2875.0</td>\n      <td>1711217.0</td>\n      <td>0.043415</td>\n      <td>1.016065</td>\n      <td>0.535337</td>\n      <td>1.438197</td>\n    </tr>\n    <tr>\n      <th>IRIS</th>\n      <td>3.0</td>\n      <td>150.0</td>\n      <td>1027.0</td>\n      <td>0.059932</td>\n      <td>0.645794</td>\n      <td>0.336040</td>\n      <td>0.337204</td>\n    </tr>\n    <tr>\n      <th>Wine</th>\n      <td>3.0</td>\n      <td>178.0</td>\n      <td>6890.0</td>\n      <td>0.064563</td>\n      <td>0.449814</td>\n      <td>0.260868</td>\n      <td>0.353699</td>\n    </tr>\n  </tbody>\n</table>\n</div>"
     },
     "execution_count": 40,
     "metadata": {},
     "output_type": "execute_result"
    }
   ],
   "source": [
    "pd.DataFrame(dataset_results).T"
   ],
   "metadata": {
    "collapsed": false,
    "ExecuteTime": {
     "end_time": "2025-01-05T22:07:54.829760500Z",
     "start_time": "2025-01-05T22:07:54.802881600Z"
    }
   },
   "id": "948e1fe166f4b588"
  },
  {
   "cell_type": "code",
   "execution_count": 47,
   "outputs": [
    {
     "data": {
      "text/plain": "                 K       N          M  True Value  M&S ST  General ST  \\\nMNIST          5.0  2348.0   140018.0      0.0128  0.4395      0.1915   \nFashion MNIST  3.0  2875.0  1711217.0      0.0434  1.0161      0.5353   \nIRIS           3.0   150.0     1027.0      0.0599  0.6458      0.3360   \nWine           3.0   178.0     6890.0      0.0646  0.4498      0.2609   \n\n               Recursive ST  \nMNIST                0.4282  \nFashion MNIST        1.4382  \nIRIS                 0.3372  \nWine                 0.3537  ",
      "text/html": "<div>\n<style scoped>\n    .dataframe tbody tr th:only-of-type {\n        vertical-align: middle;\n    }\n\n    .dataframe tbody tr th {\n        vertical-align: top;\n    }\n\n    .dataframe thead th {\n        text-align: right;\n    }\n</style>\n<table border=\"1\" class=\"dataframe\">\n  <thead>\n    <tr style=\"text-align: right;\">\n      <th></th>\n      <th>K</th>\n      <th>N</th>\n      <th>M</th>\n      <th>True Value</th>\n      <th>M&amp;S ST</th>\n      <th>General ST</th>\n      <th>Recursive ST</th>\n    </tr>\n  </thead>\n  <tbody>\n    <tr>\n      <th>MNIST</th>\n      <td>5.0</td>\n      <td>2348.0</td>\n      <td>140018.0</td>\n      <td>0.0128</td>\n      <td>0.4395</td>\n      <td>0.1915</td>\n      <td>0.4282</td>\n    </tr>\n    <tr>\n      <th>Fashion MNIST</th>\n      <td>3.0</td>\n      <td>2875.0</td>\n      <td>1711217.0</td>\n      <td>0.0434</td>\n      <td>1.0161</td>\n      <td>0.5353</td>\n      <td>1.4382</td>\n    </tr>\n    <tr>\n      <th>IRIS</th>\n      <td>3.0</td>\n      <td>150.0</td>\n      <td>1027.0</td>\n      <td>0.0599</td>\n      <td>0.6458</td>\n      <td>0.3360</td>\n      <td>0.3372</td>\n    </tr>\n    <tr>\n      <th>Wine</th>\n      <td>3.0</td>\n      <td>178.0</td>\n      <td>6890.0</td>\n      <td>0.0646</td>\n      <td>0.4498</td>\n      <td>0.2609</td>\n      <td>0.3537</td>\n    </tr>\n  </tbody>\n</table>\n</div>"
     },
     "execution_count": 47,
     "metadata": {},
     "output_type": "execute_result"
    }
   ],
   "source": [
    "np.round(pd.DataFrame(dataset_results).T,4)"
   ],
   "metadata": {
    "collapsed": false,
    "ExecuteTime": {
     "end_time": "2025-01-05T22:11:22.219611Z",
     "start_time": "2025-01-05T22:11:22.198978800Z"
    }
   },
   "id": "47fd493247da1f01"
  }
 ],
 "metadata": {
  "kernelspec": {
   "display_name": "Python 3",
   "language": "python",
   "name": "python3"
  },
  "language_info": {
   "codemirror_mode": {
    "name": "ipython",
    "version": 2
   },
   "file_extension": ".py",
   "mimetype": "text/x-python",
   "name": "python",
   "nbconvert_exporter": "python",
   "pygments_lexer": "ipython2",
   "version": "2.7.6"
  }
 },
 "nbformat": 4,
 "nbformat_minor": 5
}
